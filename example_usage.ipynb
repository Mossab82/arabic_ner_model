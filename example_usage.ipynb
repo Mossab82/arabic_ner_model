{
 "cells": [
  {
   "cell_type": "markdown",
   "metadata": {},
   "source": [
    "# Arabic Named Entity Recognition - Example Usage\n",
    "\n",
    "This notebook demonstrates how to use the Arabic NER system for recognizing named entities in classical Arabic texts."
   ]
  },
  {
   "cell_type": "code",
   "execution_count": null,
   "metadata": {},
   "source": [
    "import sys\n",
    "sys.path.append('..')\n",
    "\n",
    "from src.models import CRFModel, RuleBasedModel\n",
    "from src.utils.evaluation import EntityEvaluator\n",
    "from src.utils.visualization import ResultVisualizer\n",
    "from src.utils.helpers import load_data, setup_logger\n",
    "\n",
    "# Set up logging\n",
    "logger = setup_logger('example.log')"
   ]
  },
  {
   "cell_type": "markdown",
   "metadata": {},
   "source": [
    "## 1. Load and Prepare Data"
   ]
  },
  {
   "cell_type": "code",
   "execution_count": null,
   "metadata": {},
   "source": [
    "# Load training data\n",
    "train_tokens, train_labels = load_data('../data/train.json')\n",
    "test_tokens, test_labels = load_data('../data/test.json')\n",
    "\n",
    "print(f\"Training sentences: {len(train_tokens)}\")\n",
    "print(f\"Test sentences: {len(test_tokens)}\")"
   ]
  },
  {
   "cell_type": "markdown",
   "metadata": {},
   "source": [
    "## 2. Train Models"
   ]
  },
  {
   "cell_type": "code",
   "execution_count": null,
   "metadata": {},
   "source": [
    "# Initialize models\n",
    "crf_model = CRFModel()\n",
    "rule_model = RuleBasedModel()\n",
    "\n",
    "# Train CRF model\n",
    "crf_model.fit(train_tokens, train_labels)\n",
    "\n",
    "# Get predictions\n",
    "crf_predictions = crf_model.predict(test_tokens)\n",
    "rule_predictions = rule_model.predict(test_tokens)"
   ]
  },
  {
   "cell_type": "markdown",
   "metadata": {},
   "source": [
    "## 3. Evaluate Results"
   ]
  },
  {
   "cell_type": "code",
   "execution_count": null,
   "metadata": {},
   "source": [
    "# Initialize evaluator and visualizer\n",
    "evaluator = EntityEvaluator()\n",
    "visualizer = ResultVisualizer()\n",
    "\n",
    "# Evaluate CRF model\n",
    "crf_metrics = evaluator.compute_metrics(test_labels, crf_predictions)\n",
    "\n",
    "# Generate evaluation report\n",
    "report = evaluator.generate_report('evaluation_report.txt')\n",
    "print(report)"
   ]
  },
  {
   "cell_type": "markdown",
   "metadata": {},
   "source": [
    "## 4. Visualize Results"
   ]
  },
  {
   "cell_type": "code",
   "execution_count": null,
   "metadata": {},
   "source": [
    "# Create visualizations\n",
    "visualizer.plot_confusion_matrix(\n",
    "    crf_metrics['confusion_matrix'],\n",
    "    output_path='confusion_matrix.png'\n",
    ")\n",
    "\n",
    "visualizer.plot_performance_metrics(\n",
    "    crf_metrics['entity'],\n",
    "    output_path='performance_metrics.png'\n",
    ")\n",
    "\n",
    "# Create interactive dashboard\n",
    "visualizer.create_interactive_dashboard(\n",
    "    crf_metrics,\n",
    "    crf_metrics['error_analysis'],\n",
    "    output_path='dashboard.html'\n",
    ")"
   ]
  }
 ],
 "metadata": {
  "kernelspec": {
   "display_name": "Python 3",
   "language": "python",
   "name": "python3"
  }
 },
 "nbformat": 4,
 "nbformat_minor": 4
}
